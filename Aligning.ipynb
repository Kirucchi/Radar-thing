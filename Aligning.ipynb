{
 "cells": [
  {
   "cell_type": "code",
   "execution_count": 1,
   "metadata": {
    "collapsed": true
   },
   "outputs": [],
   "source": [
    "import pickle\n",
    "import numpy as np\n",
    "import math"
   ]
  },
  {
   "cell_type": "code",
   "execution_count": 19,
   "metadata": {},
   "outputs": [
    {
     "name": "stdout",
     "output_type": "stream",
     "text": [
      "[441, 441, 440, 440, 439, 439, 438, 438, 437, 437, 436, 436, 436, 434, 434, 433, 433, 433, 432, 432, 432, 431, 431, 431, 431, 430, 430, 430, 429, 429, 429, 429, 429, 428, 428, 428, 428, 428, 428, 427, 427, 427, 427, 427, 427, 427, 427, 427, 427, 427, 427, 427, 427, 427, 427, 427, 427, 427, 427, 427, 427, 427, 428, 428, 428, 428, 428, 428, 429, 429, 429, 429, 429, 430, 430, 430, 431, 431, 431, 431, 432, 432, 432, 433, 433, 433, 434, 434, 436, 436, 436, 437, 437, 438, 438, 439, 439, 440, 440, 441]\n",
      "-178.235953787\n"
     ]
    }
   ],
   "source": [
    "objects = []\n",
    "c = 3 * 10 ** 8\n",
    "with (open('mandrill_no_aliasing_data.pkl', \"rb\")) as openfile:\n",
    "    while True:\n",
    "        try:\n",
    "            objects.append(np.array(pickle.load(openfile)))\n",
    "        except EOFError:\n",
    "            break\n",
    "\n",
    "def actualRange(x):\n",
    "    return math.sqrt(x**2.0+250) / 2\n",
    "\n",
    "def deltat(rang):\n",
    "    return 2 * (rang - 15.81) / c\n",
    "\n",
    "platformPosition = np.array(objects[0][0])\n",
    "pulses = np.array(objects[0][1])\n",
    "rangeAxis = np.array(objects[0][2])\n",
    "newPlatform = []\n",
    "for i in platformPosition:\n",
    "    newPlatform.append(i[0])\n",
    "platformXPosition = np.array(newPlatform)\n",
    "PLAT_Y = 5\n",
    "PLAT_Z = -15\n",
    "signalBin = []\n",
    "for i in platformXPosition:\n",
    "    bin_ = int(actualRange(i)/0.0185)\n",
    "    realBin = bin_\n",
    "    if (bin_ % 0.0185) >= 0.00925:\n",
    "        realBin += 1\n",
    "    signalBin.append(realBin)\n",
    "\n",
    "\n",
    "index = 0\n",
    "sumReal = 0.0\n",
    "sumImag = 0.0j\n",
    "print(signalBin)\n",
    "for i in signalBin:\n",
    "    sumReal += pulses[index,i].real\n",
    "    sumImag += pulses[index,i].imag\n",
    "    index += 1\n",
    "print(sumMags)\n"
   ]
  },
  {
   "cell_type": "code",
   "execution_count": null,
   "metadata": {
    "collapsed": true
   },
   "outputs": [],
   "source": []
  }
 ],
 "metadata": {
  "kernelspec": {
   "display_name": "Python 3",
   "language": "python",
   "name": "python3"
  },
  "language_info": {
   "codemirror_mode": {
    "name": "ipython",
    "version": 3
   },
   "file_extension": ".py",
   "mimetype": "text/x-python",
   "name": "python",
   "nbconvert_exporter": "python",
   "pygments_lexer": "ipython3",
   "version": "3.6.3"
  }
 },
 "nbformat": 4,
 "nbformat_minor": 2
}
